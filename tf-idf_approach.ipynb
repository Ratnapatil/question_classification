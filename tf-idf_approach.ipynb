{
 "cells": [
  {
   "cell_type": "code",
   "execution_count": 1,
   "metadata": {},
   "outputs": [],
   "source": [
    "## import the required modules\n",
    "from sklearn.model_selection import train_test_split\n",
    "from sklearn.feature_extraction.text import TfidfVectorizer\n",
    "from sklearn.svm import SVC\n",
    "from sklearn import svm\n",
    "import numpy as np"
   ]
  },
  {
   "cell_type": "code",
   "execution_count": 2,
   "metadata": {},
   "outputs": [],
   "source": [
    "with open('LabelledData.txt','r') as f:\n",
    "    out = f.readlines()\n",
    "    sent = []\n",
    "    labels = []\n",
    "    for i in out:\n",
    "        res = i.split(',,,')\n",
    "        replc = res[0].replace(' ? ','')\n",
    "        replc1 = replc.replace(' .','')\n",
    "        #print (replc1)\n",
    "        strip_space = replc1.strip()\n",
    "        sent.append(replc1)\n",
    "        labels.append(res[1])\n",
    "        \n",
    "#print (sent[:3])"
   ]
  },
  {
   "cell_type": "code",
   "execution_count": 3,
   "metadata": {},
   "outputs": [],
   "source": [
    "#split data into train and test\n",
    "x_train, x_test, y_train, y_test = train_test_split(sent, labels, test_size=0.2, random_state=0)\n"
   ]
  },
  {
   "cell_type": "code",
   "execution_count": 4,
   "metadata": {},
   "outputs": [],
   "source": [
    "#convert list to numpy array\n",
    "\n",
    "X_train= np.array(x_train)\n",
    "Y_train = np.array(y_train)\n",
    "X_test = np.array(x_test)\n",
    "Y_test = np.array(y_test)\n"
   ]
  },
  {
   "cell_type": "code",
   "execution_count": 5,
   "metadata": {},
   "outputs": [],
   "source": [
    "#vectorize the data\n",
    "\n",
    "\n",
    "tfidf_vectorizer = TfidfVectorizer(max_df=400, min_df=3, use_idf=True, lowercase=True)\n",
    "tfidf_matrix = tfidf_vectorizer.fit_transform(X_train)\n",
    "\n",
    "\n",
    "X_Train = tfidf_matrix\n",
    "#print (X_Train.shape)\n",
    "\n",
    "#converts data into scipy sparse matrix\n",
    "# note earlier data was in the form of list of lists\n",
    "\n",
    "#X_Test = tfidf_vectorizer.transform(X_test)\n",
    "#print (X_Test.shape)\n"
   ]
  },
  {
   "cell_type": "code",
   "execution_count": 6,
   "metadata": {},
   "outputs": [],
   "source": [
    "##input the question to classify\n",
    "sentence = ['What time does the train leave']"
   ]
  },
  {
   "cell_type": "code",
   "execution_count": 7,
   "metadata": {},
   "outputs": [],
   "source": [
    "##vectorize give sentence\n",
    "X_Test = tfidf_vectorizer.transform(sentence)"
   ]
  },
  {
   "cell_type": "code",
   "execution_count": 8,
   "metadata": {},
   "outputs": [],
   "source": [
    "#SVM model\n",
    "clf = svm.LinearSVC()\n",
    "result = clf.fit(X_Train,Y_train)\n",
    "#print (clf)\n",
    "y_pred = result.predict(X_Test)\n",
    "print (y_pred)\n"
   ]
  }
 ],
 "metadata": {
  "kernelspec": {
   "display_name": "Python 3",
   "language": "python",
   "name": "python3"
  },
  "language_info": {
   "codemirror_mode": {
    "name": "ipython",
    "version": 3
   },
   "file_extension": ".py",
   "mimetype": "text/x-python",
   "name": "python",
   "nbconvert_exporter": "python",
   "pygments_lexer": "ipython3",
   "version": "3.5.2"
  }
 },
 "nbformat": 4,
 "nbformat_minor": 2
}
