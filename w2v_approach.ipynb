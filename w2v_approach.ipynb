{
 "cells": [
  {
   "cell_type": "code",
   "execution_count": 1,
   "metadata": {},
   "outputs": [],
   "source": [
    "## import the required modules\n",
    "from sklearn.model_selection import train_test_split\n",
    "from gensim.models import Word2Vec\n",
    "from sklearn.svm import SVC\n",
    "from sklearn import svm\n",
    "import numpy as np\n",
    "from sklearn.externals import joblib\n"
   ]
  },
  {
   "cell_type": "code",
   "execution_count": 6,
   "metadata": {},
   "outputs": [],
   "source": [
    "## read the dataset\n",
    "with open('LabelledData.txt','r') as f:\n",
    "    out = f.readlines()\n",
    "    sent = []\n",
    "    labels = []\n",
    "    for i in out:\n",
    "        res = i.split(',,,')\n",
    "        \n",
    "        punctuations = '''!()-[]{};:'\"\\,<>./?@#$%^&*_~'''\n",
    "        # remove punctuation from the string\n",
    "        no_punct = \"\"\n",
    "        for char in res[0]:\n",
    "           if char not in punctuations:\n",
    "               no_punct = no_punct + char\n",
    "        strp = no_punct.strip()\n",
    "\n",
    "        # display the unpunctuated string\n",
    "        #print(no_punct)\n",
    "        sent.append(strp)\n",
    "        labels.append(res[1])\n",
    "#print (sent[:3])"
   ]
  },
  {
   "cell_type": "code",
   "execution_count": 7,
   "metadata": {},
   "outputs": [],
   "source": [
    "import gensim\n",
    "#load the model\n",
    "##considering Google's pre-trained word2vec model\n",
    "model = gensim.models.KeyedVectors.load_word2vec_format('GoogleNews-vectors-negative300-SLIM.bin',binary=True)\n"
   ]
  },
  {
   "cell_type": "code",
   "execution_count": 8,
   "metadata": {},
   "outputs": [],
   "source": [
    "##averaging the words as a sentence\n",
    "data_vec = []\n",
    "for each in sent:\n",
    "    each = each.split(' ') \n",
    "    w2vSent = []\n",
    "    #print (each)\n",
    "    \n",
    "    for word in each:\n",
    "           \n",
    "        try:\n",
    "            #print(model[word])\n",
    "            #print (word)\n",
    "            w2vSent.append(model[word])\n",
    "        except:\n",
    "            w2vSent.append(np.zeros(300))\n",
    "    #print(w2vSent)\n",
    "    sent_array = np.array(w2vSent)\n",
    "    #print(sent_array.shape)\n",
    "    sum_arr = sent_array.sum(axis=0)\n",
    "    data_vec.append(sum_arr/len(each))\n",
    "#print (np.array(data_vec).shape)        \n",
    "   \n",
    "        "
   ]
  },
  {
   "cell_type": "code",
   "execution_count": 9,
   "metadata": {},
   "outputs": [],
   "source": [
    "#split data into train and test\n",
    "xtrain, xtest, ytrain, ytest = train_test_split(data_vec, labels, test_size=0.2, random_state=0)\n"
   ]
  },
  {
   "cell_type": "code",
   "execution_count": 15,
   "metadata": {},
   "outputs": [],
   "source": [
    "##convert to numpy array\n",
    "x_train= np.array(xtrain)\n",
    "y_train = np.array(ytrain)\n",
    "x_test = np.array(xtest)\n",
    "y_test = np.array(ytest)\n"
   ]
  },
  {
   "cell_type": "code",
   "execution_count": 16,
   "metadata": {},
   "outputs": [],
   "source": [
    "## Input the question to classify\n",
    "sentence = ['who is snoopy s arch-enemy ']"
   ]
  },
  {
   "cell_type": "code",
   "execution_count": 17,
   "metadata": {},
   "outputs": [],
   "source": [
    "##vectorize given sentence\n",
    "lst = []\n",
    "\n",
    "for each in sentence:\n",
    "    each = each.split()\n",
    "    vec_lst = []\n",
    "    for i in each:\n",
    "        try:\n",
    "            vec_lst.append(model[i])\n",
    "        except:\n",
    "            vec_lst.append(np.zeros(300))\n",
    "    arr_lst = np.array(vec_lst)\n",
    "        #print (out.shape)\n",
    "    sum_arr = arr_lst.sum(axis=0)\n",
    "    lst.append(sum_arr/len(each))\n",
    "#print (np.array(lst).shape)\n",
    "array = np.array(lst)"
   ]
  },
  {
   "cell_type": "code",
   "execution_count": 19,
   "metadata": {},
   "outputs": [],
   "source": [
    "#SVM model\n",
    "clf = svm.LinearSVC()\n",
    "result = clf.fit(x_train,y_train)\n",
    "#filename = 'finalizedw2v_model.sav'\n",
    "#joblib.dump(clf, filename)\n",
    "\n",
    "#print (clf)\n",
    "#loaded_model = joblib.load('finalizedw2v_model.sav')\n",
    "y_pred = result.predict(array)\n",
    "print (y_pred)"
   ]
  }
 ],
 "metadata": {
  "kernelspec": {
   "display_name": "Python 3",
   "language": "python",
   "name": "python3"
  },
  "language_info": {
   "codemirror_mode": {
    "name": "ipython",
    "version": 3
   },
   "file_extension": ".py",
   "mimetype": "text/x-python",
   "name": "python",
   "nbconvert_exporter": "python",
   "pygments_lexer": "ipython3",
   "version": "3.5.2"
  }
 },
 "nbformat": 4,
 "nbformat_minor": 2
}
